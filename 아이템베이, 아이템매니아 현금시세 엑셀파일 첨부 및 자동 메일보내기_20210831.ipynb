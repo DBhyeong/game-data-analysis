{
 "cells": [
  {
   "cell_type": "code",
   "execution_count": 4,
   "id": "c742917b",
   "metadata": {},
   "outputs": [
    {
     "data": {
      "text/plain": [
       "(221, b'2.0.0 Closing connection Vuuu4pgsRDWfS323FSCrrA - nsmtp')"
      ]
     },
     "execution_count": 4,
     "metadata": {},
     "output_type": "execute_result"
    }
   ],
   "source": [
    "import smtplib\n",
    "from email.mime.text import MIMEText\n",
    "from email.mime.multipart import MIMEMultipart\n",
    "from email.mime.base import MIMEBase\n",
    "from email import encoders\n",
    "import datetime\n",
    "import os\n",
    "\n",
    "email_from = 'your@naver.com' #보내는이 메일주소\n",
    "#email_to = ['big203040@gmail.com', 'big203040@naver.com'] #받는이 메일주소\n",
    "naver_id = 'your' #네이버 아이디 입력\n",
    "naver_pass = 'password' #패스워드\n",
    "\n",
    "now = datetime.datetime.now()\n",
    "nowDate = now.strftime('%Y-%m-%d')\n",
    "\n",
    "#제목 입력\n",
    "subject = '[RO1/ROZ] '+str(nowDate)+' 라그나로크 현금시세 동향'\n",
    "\n",
    "msg = MIMEMultipart()\n",
    "msg['From'] = email_from\n",
    "msg['To'] = 'big203040@gmail.com , presenting1@naver.com, jaeyoon.433@gmail.com, jeonminwoo80@gmail.com '\n",
    "msg['Subject'] = subject\n",
    "\n",
    "#본문 내용 입력\n",
    "\n",
    "body = str(nowDate)+' 전일자기준 라그나로크 현금시세 및 현금거래량입니다.' +'\\n' +'현금시세는 1억당 제니기준이며, 이는 라그나로크 제로도 동일합니다.'\n",
    "msg.attach(MIMEText(body, 'plain'))\n",
    "\n",
    "#첨부파일 보내기\n",
    "files = 'C:/Users/Gravity/Desktop/python/raw/statistics/'  \n",
    "filenames = [os.path.join(files, f) for f in os.listdir(files)]\n",
    "\n",
    "for file in filenames : \n",
    "    attachment = open(file, 'rb')\n",
    "    part = MIMEBase('application', 'octet-stream')\n",
    "    part.set_payload((attachment).read())\n",
    "    encoders.encode_base64(part)\n",
    "    part.add_header('Content-Disposition',\"attachement; filename=\"+file)\n",
    "    msg.attach(part)\n",
    "    \n",
    "text = msg.as_string()\n",
    "server = smtplib.SMTP('smtp.naver.com', 587)\n",
    "server.starttls()\n",
    "server.login(naver_id, naver_pass)\n",
    "server.sendmail(email_from,msg['To'].split(','),text)\n",
    "server.quit()"
   ]
  },
  {
   "cell_type": "code",
   "execution_count": null,
   "id": "41853e62",
   "metadata": {},
   "outputs": [],
   "source": []
  }
 ],
 "metadata": {
  "kernelspec": {
   "display_name": "Python 3 (ipykernel)",
   "language": "python",
   "name": "python3"
  },
  "language_info": {
   "codemirror_mode": {
    "name": "ipython",
    "version": 3
   },
   "file_extension": ".py",
   "mimetype": "text/x-python",
   "name": "python",
   "nbconvert_exporter": "python",
   "pygments_lexer": "ipython3",
   "version": "3.9.7"
  }
 },
 "nbformat": 4,
 "nbformat_minor": 5
}
